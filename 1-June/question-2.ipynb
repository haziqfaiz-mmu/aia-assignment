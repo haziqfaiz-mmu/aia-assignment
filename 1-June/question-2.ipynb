{
 "cells": [
  {
   "cell_type": "code",
   "execution_count": 34,
   "metadata": {},
   "outputs": [],
   "source": [
    "import pandas as pd\n",
    "import re"
   ]
  },
  {
   "cell_type": "code",
   "execution_count": 38,
   "metadata": {},
   "outputs": [],
   "source": [
    "f = open(\"ds_test_log.txt\", \"r\")\n",
    "#f.readline()"
   ]
  },
  {
   "cell_type": "code",
   "execution_count": 42,
   "metadata": {},
   "outputs": [
    {
     "data": {
      "text/plain": [
       "''"
      ]
     },
     "execution_count": 42,
     "metadata": {},
     "output_type": "execute_result"
    }
   ],
   "source": [
    "for line in f:\n",
    "    line = line.replace(\"\\nruser\",\"ruser\").replace(\"\\nrhost\",\"rhost\")\n",
    "f.readline()"
   ]
  },
  {
   "cell_type": "code",
   "execution_count": 48,
   "metadata": {},
   "outputs": [
    {
     "data": {
      "text/plain": [
       "''"
      ]
     },
     "execution_count": 48,
     "metadata": {},
     "output_type": "execute_result"
    }
   ],
   "source": [
    "f.readline()"
   ]
  },
  {
   "cell_type": "code",
   "execution_count": 16,
   "metadata": {},
   "outputs": [],
   "source": [
    "df = pd.DataFrame(columns=[\"Date\",\"Time\",\"User\",\"Host\"])"
   ]
  },
  {
   "cell_type": "code",
   "execution_count": 17,
   "metadata": {},
   "outputs": [],
   "source": [
    "#Extract Time\n",
    "def extract_time(line):\n",
    "    try:\n",
    "        results = re.search('^.*(?=(\\ combo))', line)\n",
    "        time = results.group()[-8:]\n",
    "        return time\n",
    "    except Exception as e:\n",
    "        return None"
   ]
  },
  {
   "cell_type": "code",
   "execution_count": 18,
   "metadata": {},
   "outputs": [],
   "source": [
    "#Extract Date\n",
    "def extract_date(line):\n",
    "    try:\n",
    "        results = re.search('^.*(?=(\\ combo))', line)\n",
    "        date = results.group()[:-9]\n",
    "        return date\n",
    "    except Exception as e:\n",
    "        return None"
   ]
  },
  {
   "cell_type": "code",
   "execution_count": 19,
   "metadata": {},
   "outputs": [],
   "source": [
    "#Extract ruser\n",
    "def extract_user(line):\n",
    "    try:\n",
    "        pattern = r\"ruser=(.*?) rhost=\"\n",
    "        user = re.search(pattern,line).group().replace(\"ruser=\",\"\").replace(\"rhost=\",\"\").replace(\" \",\"\")\n",
    "        return user\n",
    "    except Exception as e:\n",
    "        return None"
   ]
  },
  {
   "cell_type": "code",
   "execution_count": 20,
   "metadata": {},
   "outputs": [],
   "source": [
    "#Extract rhost\n",
    "def extract_host(line):\n",
    "    try:\n",
    "        pattern = r\"rhost=(.*?) \"\n",
    "        host = re.search(pattern,line).group().replace(\"rhost=\",\"\").replace(\" \",\"\")\n",
    "        return host\n",
    "    except Exception as e:\n",
    "        return None"
   ]
  },
  {
   "cell_type": "code",
   "execution_count": 41,
   "metadata": {},
   "outputs": [
    {
     "data": {
      "text/plain": [
       "[None, None, None, None]"
      ]
     },
     "execution_count": 41,
     "metadata": {},
     "output_type": "execute_result"
    }
   ],
   "source": [
    "test_line = f.readline()\n",
    "[extract_date(test_line),extract_time(test_line),extract_user(test_line),extract_host(test_line)]"
   ]
  },
  {
   "cell_type": "code",
   "execution_count": 21,
   "metadata": {},
   "outputs": [
    {
     "data": {
      "text/html": [
       "<div>\n",
       "<style scoped>\n",
       "    .dataframe tbody tr th:only-of-type {\n",
       "        vertical-align: middle;\n",
       "    }\n",
       "\n",
       "    .dataframe tbody tr th {\n",
       "        vertical-align: top;\n",
       "    }\n",
       "\n",
       "    .dataframe thead th {\n",
       "        text-align: right;\n",
       "    }\n",
       "</style>\n",
       "<table border=\"1\" class=\"dataframe\">\n",
       "  <thead>\n",
       "    <tr style=\"text-align: right;\">\n",
       "      <th></th>\n",
       "      <th>Date</th>\n",
       "      <th>Time</th>\n",
       "      <th>User</th>\n",
       "      <th>Host</th>\n",
       "    </tr>\n",
       "  </thead>\n",
       "  <tbody>\n",
       "    <tr>\n",
       "      <th>0</th>\n",
       "      <td>Jun 14</td>\n",
       "      <td>15:16:02</td>\n",
       "      <td>Marion.fakedomain.com</td>\n",
       "      <td>218.188.2.4</td>\n",
       "    </tr>\n",
       "    <tr>\n",
       "      <th>1</th>\n",
       "      <td>Jun 15</td>\n",
       "      <td>02:04:59</td>\n",
       "      <td>Ann.fakedomain.com</td>\n",
       "      <td>220-135-151-1.hinet-ip.hinet.net</td>\n",
       "    </tr>\n",
       "    <tr>\n",
       "      <th>2</th>\n",
       "      <td>Jun 15</td>\n",
       "      <td>02:04:59</td>\n",
       "      <td>Mildred.fakedomain.com</td>\n",
       "      <td>220-135-151-1.hinet-ip.hinet.net</td>\n",
       "    </tr>\n",
       "    <tr>\n",
       "      <th>3</th>\n",
       "      <td>Jun 15</td>\n",
       "      <td>02:04:59</td>\n",
       "      <td>Evelyn.fakedomain.com</td>\n",
       "      <td>220-135-151-1.hinet-ip.hinet.net</td>\n",
       "    </tr>\n",
       "    <tr>\n",
       "      <th>4</th>\n",
       "      <td>Jun 15</td>\n",
       "      <td>02:04:59</td>\n",
       "      <td>Marion.fakedomain.com</td>\n",
       "      <td>220-135-151-1.hinet-ip.hinet.net</td>\n",
       "    </tr>\n",
       "    <tr>\n",
       "      <th>...</th>\n",
       "      <td>...</td>\n",
       "      <td>...</td>\n",
       "      <td>...</td>\n",
       "      <td>...</td>\n",
       "    </tr>\n",
       "    <tr>\n",
       "      <th>995</th>\n",
       "      <td>\"Jul 27</td>\n",
       "      <td>14:41:59</td>\n",
       "      <td>None</td>\n",
       "      <td>None</td>\n",
       "    </tr>\n",
       "    <tr>\n",
       "      <th>996</th>\n",
       "      <td>Jul 27</td>\n",
       "      <td>14:41:59</td>\n",
       "      <td>None</td>\n",
       "      <td>None</td>\n",
       "    </tr>\n",
       "    <tr>\n",
       "      <th>997</th>\n",
       "      <td>Jul 27</td>\n",
       "      <td>14:42:00</td>\n",
       "      <td>None</td>\n",
       "      <td>None</td>\n",
       "    </tr>\n",
       "    <tr>\n",
       "      <th>998</th>\n",
       "      <td>Jul 27</td>\n",
       "      <td>14:42:00</td>\n",
       "      <td>None</td>\n",
       "      <td>None</td>\n",
       "    </tr>\n",
       "    <tr>\n",
       "      <th>999</th>\n",
       "      <td>None</td>\n",
       "      <td>None</td>\n",
       "      <td>None</td>\n",
       "      <td>None</td>\n",
       "    </tr>\n",
       "  </tbody>\n",
       "</table>\n",
       "<p>1000 rows × 4 columns</p>\n",
       "</div>"
      ],
      "text/plain": [
       "        Date      Time                    User  \\\n",
       "0     Jun 14  15:16:02   Marion.fakedomain.com   \n",
       "1     Jun 15  02:04:59      Ann.fakedomain.com   \n",
       "2     Jun 15  02:04:59  Mildred.fakedomain.com   \n",
       "3     Jun 15  02:04:59   Evelyn.fakedomain.com   \n",
       "4     Jun 15  02:04:59   Marion.fakedomain.com   \n",
       "..       ...       ...                     ...   \n",
       "995  \"Jul 27  14:41:59                    None   \n",
       "996   Jul 27  14:41:59                    None   \n",
       "997   Jul 27  14:42:00                    None   \n",
       "998   Jul 27  14:42:00                    None   \n",
       "999     None      None                    None   \n",
       "\n",
       "                                 Host  \n",
       "0                         218.188.2.4  \n",
       "1    220-135-151-1.hinet-ip.hinet.net  \n",
       "2    220-135-151-1.hinet-ip.hinet.net  \n",
       "3    220-135-151-1.hinet-ip.hinet.net  \n",
       "4    220-135-151-1.hinet-ip.hinet.net  \n",
       "..                                ...  \n",
       "995                              None  \n",
       "996                              None  \n",
       "997                              None  \n",
       "998                              None  \n",
       "999                              None  \n",
       "\n",
       "[1000 rows x 4 columns]"
      ]
     },
     "execution_count": 21,
     "metadata": {},
     "output_type": "execute_result"
    }
   ],
   "source": [
    "for line in f:\n",
    "    line=f.readline()\n",
    "    new_row= [extract_date(line),extract_time(line),extract_user(line),extract_host(line)]\n",
    "    df.loc[len(df)] = new_row\n",
    "df"
   ]
  },
  {
   "cell_type": "code",
   "execution_count": null,
   "metadata": {},
   "outputs": [],
   "source": []
  },
  {
   "cell_type": "code",
   "execution_count": 12,
   "metadata": {},
   "outputs": [],
   "source": [
    "df.to_csv('ds_test_log_cleaned.csv', encoding='utf-8', index=False)"
   ]
  },
  {
   "cell_type": "code",
   "execution_count": 13,
   "metadata": {},
   "outputs": [
    {
     "data": {
      "text/html": [
       "<div>\n",
       "<style scoped>\n",
       "    .dataframe tbody tr th:only-of-type {\n",
       "        vertical-align: middle;\n",
       "    }\n",
       "\n",
       "    .dataframe tbody tr th {\n",
       "        vertical-align: top;\n",
       "    }\n",
       "\n",
       "    .dataframe thead th {\n",
       "        text-align: right;\n",
       "    }\n",
       "</style>\n",
       "<table border=\"1\" class=\"dataframe\">\n",
       "  <thead>\n",
       "    <tr style=\"text-align: right;\">\n",
       "      <th></th>\n",
       "      <th>Date</th>\n",
       "      <th>Time</th>\n",
       "      <th>User</th>\n",
       "      <th>Host</th>\n",
       "    </tr>\n",
       "  </thead>\n",
       "  <tbody>\n",
       "    <tr>\n",
       "      <th>0</th>\n",
       "      <td>Jun 14</td>\n",
       "      <td>15:16:02</td>\n",
       "      <td>Marion.fakedomain.com</td>\n",
       "      <td>218.188.2.4</td>\n",
       "    </tr>\n",
       "    <tr>\n",
       "      <th>1</th>\n",
       "      <td>Jun 15</td>\n",
       "      <td>02:04:59</td>\n",
       "      <td>Alice.fakedomain.com</td>\n",
       "      <td>220-135-151-1.hinet-ip.hinet.net</td>\n",
       "    </tr>\n",
       "    <tr>\n",
       "      <th>2</th>\n",
       "      <td>Jun 15</td>\n",
       "      <td>02:04:59</td>\n",
       "      <td>Ann.fakedomain.com</td>\n",
       "      <td>220-135-151-1.hinet-ip.hinet.net</td>\n",
       "    </tr>\n",
       "    <tr>\n",
       "      <th>3</th>\n",
       "      <td>Jun 15</td>\n",
       "      <td>02:04:59</td>\n",
       "      <td>Edna.fakedomain.com</td>\n",
       "      <td>220-135-151-1.hinet-ip.hinet.net</td>\n",
       "    </tr>\n",
       "    <tr>\n",
       "      <th>4</th>\n",
       "      <td>Jun 15</td>\n",
       "      <td>02:04:59</td>\n",
       "      <td>Mildred.fakedomain.com</td>\n",
       "      <td>220-135-151-1.hinet-ip.hinet.net</td>\n",
       "    </tr>\n",
       "    <tr>\n",
       "      <th>...</th>\n",
       "      <td>...</td>\n",
       "      <td>...</td>\n",
       "      <td>...</td>\n",
       "      <td>...</td>\n",
       "    </tr>\n",
       "    <tr>\n",
       "      <th>1993</th>\n",
       "      <td>Jul 27</td>\n",
       "      <td>14:41:59</td>\n",
       "      <td>NaN</td>\n",
       "      <td>NaN</td>\n",
       "    </tr>\n",
       "    <tr>\n",
       "      <th>1994</th>\n",
       "      <td>Jul 27</td>\n",
       "      <td>14:42:00</td>\n",
       "      <td>NaN</td>\n",
       "      <td>NaN</td>\n",
       "    </tr>\n",
       "    <tr>\n",
       "      <th>1995</th>\n",
       "      <td>Jul 27</td>\n",
       "      <td>14:42:00</td>\n",
       "      <td>NaN</td>\n",
       "      <td>NaN</td>\n",
       "    </tr>\n",
       "    <tr>\n",
       "      <th>1996</th>\n",
       "      <td>Jul 27</td>\n",
       "      <td>14:42:00</td>\n",
       "      <td>NaN</td>\n",
       "      <td>NaN</td>\n",
       "    </tr>\n",
       "    <tr>\n",
       "      <th>1997</th>\n",
       "      <td>Jul 27</td>\n",
       "      <td>14:42:00</td>\n",
       "      <td>NaN</td>\n",
       "      <td>NaN</td>\n",
       "    </tr>\n",
       "  </tbody>\n",
       "</table>\n",
       "<p>1998 rows × 4 columns</p>\n",
       "</div>"
      ],
      "text/plain": [
       "        Date      Time                    User  \\\n",
       "0     Jun 14  15:16:02   Marion.fakedomain.com   \n",
       "1     Jun 15  02:04:59    Alice.fakedomain.com   \n",
       "2     Jun 15  02:04:59      Ann.fakedomain.com   \n",
       "3     Jun 15  02:04:59     Edna.fakedomain.com   \n",
       "4     Jun 15  02:04:59  Mildred.fakedomain.com   \n",
       "...      ...       ...                     ...   \n",
       "1993  Jul 27  14:41:59                     NaN   \n",
       "1994  Jul 27  14:42:00                     NaN   \n",
       "1995  Jul 27  14:42:00                     NaN   \n",
       "1996  Jul 27  14:42:00                     NaN   \n",
       "1997  Jul 27  14:42:00                     NaN   \n",
       "\n",
       "                                  Host  \n",
       "0                          218.188.2.4  \n",
       "1     220-135-151-1.hinet-ip.hinet.net  \n",
       "2     220-135-151-1.hinet-ip.hinet.net  \n",
       "3     220-135-151-1.hinet-ip.hinet.net  \n",
       "4     220-135-151-1.hinet-ip.hinet.net  \n",
       "...                                ...  \n",
       "1993                               NaN  \n",
       "1994                               NaN  \n",
       "1995                               NaN  \n",
       "1996                               NaN  \n",
       "1997                               NaN  \n",
       "\n",
       "[1998 rows x 4 columns]"
      ]
     },
     "execution_count": 13,
     "metadata": {},
     "output_type": "execute_result"
    }
   ],
   "source": [
    "df_test_log_cleaned = pd.read_csv(\"ds_test_log_cleaned.csv\")\n",
    "df_test_log_cleaned"
   ]
  },
  {
   "cell_type": "code",
   "execution_count": null,
   "metadata": {},
   "outputs": [],
   "source": []
  }
 ],
 "metadata": {
  "kernelspec": {
   "display_name": "Python 3",
   "language": "python",
   "name": "python3"
  },
  "language_info": {
   "codemirror_mode": {
    "name": "ipython",
    "version": 3
   },
   "file_extension": ".py",
   "mimetype": "text/x-python",
   "name": "python",
   "nbconvert_exporter": "python",
   "pygments_lexer": "ipython3",
   "version": "3.11.3"
  },
  "orig_nbformat": 4
 },
 "nbformat": 4,
 "nbformat_minor": 2
}
