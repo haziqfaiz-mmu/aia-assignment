{
 "cells": [
  {
   "cell_type": "code",
   "execution_count": 50,
   "metadata": {},
   "outputs": [],
   "source": [
    "import pandas as pd\n",
    "import re\n",
    "import numpy as np"
   ]
  },
  {
   "cell_type": "code",
   "execution_count": 6,
   "metadata": {},
   "outputs": [],
   "source": [
    "#Extract Time\n",
    "def extract_time(line):\n",
    "    try:\n",
    "        results = re.search('^.*(?=(\\ combo))', line)\n",
    "        time = results.group()[-8:]\n",
    "        return time\n",
    "    except Exception as e:\n",
    "        return None"
   ]
  },
  {
   "cell_type": "code",
   "execution_count": 7,
   "metadata": {},
   "outputs": [],
   "source": [
    "#Extract Date\n",
    "def extract_date(line):\n",
    "    try:\n",
    "        results = re.search('^.*(?=(\\ combo))', line)\n",
    "        date = results.group()[:-9]\n",
    "        return date\n",
    "    except Exception as e:\n",
    "        return None"
   ]
  },
  {
   "cell_type": "code",
   "execution_count": 8,
   "metadata": {},
   "outputs": [],
   "source": [
    "#Extract ruser\n",
    "def extract_user(line):\n",
    "    try:\n",
    "        pattern = r\"ruser=(.*?) rhost=\"\n",
    "        user = re.search(pattern,line).group().replace(\"ruser=\",\"\").replace(\"rhost=\",\"\").replace(\" \",\"\")\n",
    "        return user\n",
    "    except Exception as e:\n",
    "        return None"
   ]
  },
  {
   "cell_type": "code",
   "execution_count": 9,
   "metadata": {},
   "outputs": [],
   "source": [
    "#Extract rhost\n",
    "def extract_host(line):\n",
    "    try:\n",
    "        pattern = r\"rhost=(.*?) \"\n",
    "        host = re.search(pattern,line).group().replace(\"rhost=\",\"\").replace(\" \",\"\")\n",
    "        return host\n",
    "    except Exception as e:\n",
    "        return None"
   ]
  },
  {
   "cell_type": "code",
   "execution_count": 18,
   "metadata": {},
   "outputs": [
    {
     "data": {
      "text/plain": [
       "['Jun 14', '15:16:02', 'Marion.fakedomain.com', '218.188.2.4']"
      ]
     },
     "execution_count": 18,
     "metadata": {},
     "output_type": "execute_result"
    }
   ],
   "source": [
    "f = open(\"ds_test_log.txt\", \"r\")\n",
    "test_line = f.readline()\n",
    "test_line = f.readline()\n",
    "test_line = f.readline()\n",
    "[extract_date(test_line),extract_time(test_line),extract_user(test_line),extract_host(test_line)]"
   ]
  },
  {
   "cell_type": "code",
   "execution_count": 24,
   "metadata": {},
   "outputs": [
    {
     "data": {
      "text/html": [
       "<div>\n",
       "<style scoped>\n",
       "    .dataframe tbody tr th:only-of-type {\n",
       "        vertical-align: middle;\n",
       "    }\n",
       "\n",
       "    .dataframe tbody tr th {\n",
       "        vertical-align: top;\n",
       "    }\n",
       "\n",
       "    .dataframe thead th {\n",
       "        text-align: right;\n",
       "    }\n",
       "</style>\n",
       "<table border=\"1\" class=\"dataframe\">\n",
       "  <thead>\n",
       "    <tr style=\"text-align: right;\">\n",
       "      <th></th>\n",
       "      <th>Date</th>\n",
       "      <th>Time</th>\n",
       "      <th>User</th>\n",
       "      <th>Host</th>\n",
       "    </tr>\n",
       "  </thead>\n",
       "  <tbody>\n",
       "    <tr>\n",
       "      <th>0</th>\n",
       "      <td>Jun 14</td>\n",
       "      <td>15:16:01</td>\n",
       "      <td>Ruth.fakedomain.com</td>\n",
       "      <td>218.188.2.4</td>\n",
       "    </tr>\n",
       "    <tr>\n",
       "      <th>1</th>\n",
       "      <td>Jun 14</td>\n",
       "      <td>15:16:02</td>\n",
       "      <td>None</td>\n",
       "      <td>None</td>\n",
       "    </tr>\n",
       "    <tr>\n",
       "      <th>2</th>\n",
       "      <td>Jun 14</td>\n",
       "      <td>15:16:02</td>\n",
       "      <td>Marion.fakedomain.com</td>\n",
       "      <td>218.188.2.4</td>\n",
       "    </tr>\n",
       "    <tr>\n",
       "      <th>3</th>\n",
       "      <td>Jun 15</td>\n",
       "      <td>02:04:59</td>\n",
       "      <td>Alice.fakedomain.com</td>\n",
       "      <td>220-135-151-1.hinet-ip.hinet.net</td>\n",
       "    </tr>\n",
       "    <tr>\n",
       "      <th>4</th>\n",
       "      <td>Jun 15</td>\n",
       "      <td>02:04:59</td>\n",
       "      <td>Ann.fakedomain.com</td>\n",
       "      <td>220-135-151-1.hinet-ip.hinet.net</td>\n",
       "    </tr>\n",
       "    <tr>\n",
       "      <th>...</th>\n",
       "      <td>...</td>\n",
       "      <td>...</td>\n",
       "      <td>...</td>\n",
       "      <td>...</td>\n",
       "    </tr>\n",
       "    <tr>\n",
       "      <th>1995</th>\n",
       "      <td>Jul 27</td>\n",
       "      <td>14:41:59</td>\n",
       "      <td>None</td>\n",
       "      <td>None</td>\n",
       "    </tr>\n",
       "    <tr>\n",
       "      <th>1996</th>\n",
       "      <td>Jul 27</td>\n",
       "      <td>14:42:00</td>\n",
       "      <td>None</td>\n",
       "      <td>None</td>\n",
       "    </tr>\n",
       "    <tr>\n",
       "      <th>1997</th>\n",
       "      <td>Jul 27</td>\n",
       "      <td>14:42:00</td>\n",
       "      <td>None</td>\n",
       "      <td>None</td>\n",
       "    </tr>\n",
       "    <tr>\n",
       "      <th>1998</th>\n",
       "      <td>Jul 27</td>\n",
       "      <td>14:42:00</td>\n",
       "      <td>None</td>\n",
       "      <td>None</td>\n",
       "    </tr>\n",
       "    <tr>\n",
       "      <th>1999</th>\n",
       "      <td>Jul 27</td>\n",
       "      <td>14:42:00</td>\n",
       "      <td>None</td>\n",
       "      <td>None</td>\n",
       "    </tr>\n",
       "  </tbody>\n",
       "</table>\n",
       "<p>2000 rows × 4 columns</p>\n",
       "</div>"
      ],
      "text/plain": [
       "        Date      Time                   User  \\\n",
       "0     Jun 14  15:16:01    Ruth.fakedomain.com   \n",
       "1     Jun 14  15:16:02                   None   \n",
       "2     Jun 14  15:16:02  Marion.fakedomain.com   \n",
       "3     Jun 15  02:04:59   Alice.fakedomain.com   \n",
       "4     Jun 15  02:04:59     Ann.fakedomain.com   \n",
       "...      ...       ...                    ...   \n",
       "1995  Jul 27  14:41:59                   None   \n",
       "1996  Jul 27  14:42:00                   None   \n",
       "1997  Jul 27  14:42:00                   None   \n",
       "1998  Jul 27  14:42:00                   None   \n",
       "1999  Jul 27  14:42:00                   None   \n",
       "\n",
       "                                  Host  \n",
       "0                          218.188.2.4  \n",
       "1                                 None  \n",
       "2                          218.188.2.4  \n",
       "3     220-135-151-1.hinet-ip.hinet.net  \n",
       "4     220-135-151-1.hinet-ip.hinet.net  \n",
       "...                                ...  \n",
       "1995                              None  \n",
       "1996                              None  \n",
       "1997                              None  \n",
       "1998                              None  \n",
       "1999                              None  \n",
       "\n",
       "[2000 rows x 4 columns]"
      ]
     },
     "execution_count": 24,
     "metadata": {},
     "output_type": "execute_result"
    }
   ],
   "source": [
    "df = pd.DataFrame(columns=[\"Date\",\"Time\",\"User\",\"Host\"])\n",
    "f = open(\"ds_test_log.txt\", \"r\")\n",
    "line=f.readline()\n",
    "while(line):\n",
    "    new_row= [extract_date(line),extract_time(line),extract_user(line),extract_host(line)]\n",
    "    df.loc[len(df)] = new_row\n",
    "    line=f.readline()\n",
    "df"
   ]
  },
  {
   "cell_type": "code",
   "execution_count": 25,
   "metadata": {},
   "outputs": [],
   "source": [
    "df.to_csv('ds_test_log_cleaned.csv', encoding='utf-8', index=False)"
   ]
  },
  {
   "cell_type": "code",
   "execution_count": 26,
   "metadata": {},
   "outputs": [
    {
     "data": {
      "text/html": [
       "<div>\n",
       "<style scoped>\n",
       "    .dataframe tbody tr th:only-of-type {\n",
       "        vertical-align: middle;\n",
       "    }\n",
       "\n",
       "    .dataframe tbody tr th {\n",
       "        vertical-align: top;\n",
       "    }\n",
       "\n",
       "    .dataframe thead th {\n",
       "        text-align: right;\n",
       "    }\n",
       "</style>\n",
       "<table border=\"1\" class=\"dataframe\">\n",
       "  <thead>\n",
       "    <tr style=\"text-align: right;\">\n",
       "      <th></th>\n",
       "      <th>Date</th>\n",
       "      <th>Time</th>\n",
       "      <th>User</th>\n",
       "      <th>Host</th>\n",
       "    </tr>\n",
       "  </thead>\n",
       "  <tbody>\n",
       "    <tr>\n",
       "      <th>0</th>\n",
       "      <td>Jun 14</td>\n",
       "      <td>15:16:01</td>\n",
       "      <td>Ruth.fakedomain.com</td>\n",
       "      <td>218.188.2.4</td>\n",
       "    </tr>\n",
       "    <tr>\n",
       "      <th>1</th>\n",
       "      <td>Jun 14</td>\n",
       "      <td>15:16:02</td>\n",
       "      <td>NaN</td>\n",
       "      <td>NaN</td>\n",
       "    </tr>\n",
       "    <tr>\n",
       "      <th>2</th>\n",
       "      <td>Jun 14</td>\n",
       "      <td>15:16:02</td>\n",
       "      <td>Marion.fakedomain.com</td>\n",
       "      <td>218.188.2.4</td>\n",
       "    </tr>\n",
       "    <tr>\n",
       "      <th>3</th>\n",
       "      <td>Jun 15</td>\n",
       "      <td>02:04:59</td>\n",
       "      <td>Alice.fakedomain.com</td>\n",
       "      <td>220-135-151-1.hinet-ip.hinet.net</td>\n",
       "    </tr>\n",
       "    <tr>\n",
       "      <th>4</th>\n",
       "      <td>Jun 15</td>\n",
       "      <td>02:04:59</td>\n",
       "      <td>Ann.fakedomain.com</td>\n",
       "      <td>220-135-151-1.hinet-ip.hinet.net</td>\n",
       "    </tr>\n",
       "    <tr>\n",
       "      <th>...</th>\n",
       "      <td>...</td>\n",
       "      <td>...</td>\n",
       "      <td>...</td>\n",
       "      <td>...</td>\n",
       "    </tr>\n",
       "    <tr>\n",
       "      <th>1995</th>\n",
       "      <td>Jul 27</td>\n",
       "      <td>14:41:59</td>\n",
       "      <td>NaN</td>\n",
       "      <td>NaN</td>\n",
       "    </tr>\n",
       "    <tr>\n",
       "      <th>1996</th>\n",
       "      <td>Jul 27</td>\n",
       "      <td>14:42:00</td>\n",
       "      <td>NaN</td>\n",
       "      <td>NaN</td>\n",
       "    </tr>\n",
       "    <tr>\n",
       "      <th>1997</th>\n",
       "      <td>Jul 27</td>\n",
       "      <td>14:42:00</td>\n",
       "      <td>NaN</td>\n",
       "      <td>NaN</td>\n",
       "    </tr>\n",
       "    <tr>\n",
       "      <th>1998</th>\n",
       "      <td>Jul 27</td>\n",
       "      <td>14:42:00</td>\n",
       "      <td>NaN</td>\n",
       "      <td>NaN</td>\n",
       "    </tr>\n",
       "    <tr>\n",
       "      <th>1999</th>\n",
       "      <td>Jul 27</td>\n",
       "      <td>14:42:00</td>\n",
       "      <td>NaN</td>\n",
       "      <td>NaN</td>\n",
       "    </tr>\n",
       "  </tbody>\n",
       "</table>\n",
       "<p>2000 rows × 4 columns</p>\n",
       "</div>"
      ],
      "text/plain": [
       "        Date      Time                   User  \\\n",
       "0     Jun 14  15:16:01    Ruth.fakedomain.com   \n",
       "1     Jun 14  15:16:02                    NaN   \n",
       "2     Jun 14  15:16:02  Marion.fakedomain.com   \n",
       "3     Jun 15  02:04:59   Alice.fakedomain.com   \n",
       "4     Jun 15  02:04:59     Ann.fakedomain.com   \n",
       "...      ...       ...                    ...   \n",
       "1995  Jul 27  14:41:59                    NaN   \n",
       "1996  Jul 27  14:42:00                    NaN   \n",
       "1997  Jul 27  14:42:00                    NaN   \n",
       "1998  Jul 27  14:42:00                    NaN   \n",
       "1999  Jul 27  14:42:00                    NaN   \n",
       "\n",
       "                                  Host  \n",
       "0                          218.188.2.4  \n",
       "1                                  NaN  \n",
       "2                          218.188.2.4  \n",
       "3     220-135-151-1.hinet-ip.hinet.net  \n",
       "4     220-135-151-1.hinet-ip.hinet.net  \n",
       "...                                ...  \n",
       "1995                               NaN  \n",
       "1996                               NaN  \n",
       "1997                               NaN  \n",
       "1998                               NaN  \n",
       "1999                               NaN  \n",
       "\n",
       "[2000 rows x 4 columns]"
      ]
     },
     "execution_count": 26,
     "metadata": {},
     "output_type": "execute_result"
    }
   ],
   "source": [
    "df_test_log_cleaned = pd.read_csv(\"ds_test_log_cleaned.csv\")\n",
    "df_test_log_cleaned"
   ]
  },
  {
   "cell_type": "code",
   "execution_count": 27,
   "metadata": {},
   "outputs": [
    {
     "data": {
      "text/plain": [
       "array(['Ruth.fakedomain.com', nan, 'Marion.fakedomain.com',\n",
       "       'Alice.fakedomain.com', 'Ann.fakedomain.com',\n",
       "       'Edna.fakedomain.com', 'Mildred.fakedomain.com',\n",
       "       'Mae.fakedomain.com', 'Evelyn.fakedomain.com',\n",
       "       'Lillian.fakedomain.com', 'Frances.fakedomain.com',\n",
       "       'Grace.fakedomain.com', 'Ethel.fakedomain.com',\n",
       "       'Esther.fakedomain.com', 'Eleanor.fakedomain.com',\n",
       "       'Louise.fakedomain.com', 'Gladys.fakedomain.com',\n",
       "       'Doris.fakedomain.com', 'Lucille.fakedomain.com',\n",
       "       'Katherine.fakedomain.com', 'Rose.fakedomain.com',\n",
       "       'Clara.fakedomain.com', 'Gertrude.fakedomain.com',\n",
       "       'Lois.fakedomain.com', 'Mabel.fakedomain.com',\n",
       "       'Josephine.fakedomain.com', 'Catherine.fakedomain.com',\n",
       "       'Jean.fakedomain.com', 'Bernice.fakedomain.com',\n",
       "       'Elsie.fakedomain.com', 'Betty.fakedomain.com',\n",
       "       'Margaret.fakedomain.com', 'Florence.fakedomain.com',\n",
       "       'Violet.fakedomain.com', 'Virginia.fakedomain.com',\n",
       "       'Marie.fakedomain.com', 'Edith.fakedomain.com',\n",
       "       'Marian.fakedomain.com', 'Hazel.fakedomain.com',\n",
       "       'Thelma.fakedomain.com', 'Dorothy.fakedomain.com',\n",
       "       'Helen.fakedomain.com', 'Laura.fakedomain.com',\n",
       "       'Marguerite.fakedomain.com', 'Mary.fakedomain.com',\n",
       "       'Elizabeth.fakedomain.com', 'Anna.fakedomain.com',\n",
       "       'Jessie.fakedomain.com', 'Marjorie.fakedomain.com',\n",
       "       'Beatrice.fakedomain.com', 'Irene.fakedomain.com'], dtype=object)"
      ]
     },
     "execution_count": 27,
     "metadata": {},
     "output_type": "execute_result"
    }
   ],
   "source": [
    "#Get all rusers in the file\n",
    "df_test_log_cleaned[\"User\"].unique()"
   ]
  },
  {
   "cell_type": "code",
   "execution_count": 40,
   "metadata": {},
   "outputs": [
    {
     "data": {
      "text/plain": [
       "array(['Rose.fakedomain.com', 'Frances.fakedomain.com',\n",
       "       'Ann.fakedomain.com', 'Marion.fakedomain.com',\n",
       "       'Anna.fakedomain.com', 'Edna.fakedomain.com',\n",
       "       'Esther.fakedomain.com', 'Lillian.fakedomain.com',\n",
       "       'Florence.fakedomain.com'], dtype=object)"
      ]
     },
     "execution_count": 40,
     "metadata": {},
     "output_type": "execute_result"
    }
   ],
   "source": [
    "#Find all the users that have been to 82.77.200.128\n",
    "df_test_log_cleaned.loc[(df[\"Host\"]== \"82.77.200.128\")][\"User\"].unique()"
   ]
  },
  {
   "cell_type": "code",
   "execution_count": 43,
   "metadata": {},
   "outputs": [
    {
     "data": {
      "text/plain": [
       "array(['Anna.fakedomain.com', 'Mildred.fakedomain.com',\n",
       "       'Mae.fakedomain.com', 'Louise.fakedomain.com',\n",
       "       'Hazel.fakedomain.com', 'Edna.fakedomain.com',\n",
       "       'Lillian.fakedomain.com', 'Katherine.fakedomain.com',\n",
       "       'Virginia.fakedomain.com', 'Jessie.fakedomain.com'], dtype=object)"
      ]
     },
     "execution_count": 43,
     "metadata": {},
     "output_type": "execute_result"
    }
   ],
   "source": [
    "#Find all the users that have been to massive.merukuru.org\n",
    "df_test_log_cleaned.loc[(df[\"Host\"]== \"massive.merukuru.org\")][\"User\"].unique()"
   ]
  },
  {
   "cell_type": "code",
   "execution_count": 56,
   "metadata": {},
   "outputs": [
    {
     "data": {
      "text/html": [
       "<div>\n",
       "<style scoped>\n",
       "    .dataframe tbody tr th:only-of-type {\n",
       "        vertical-align: middle;\n",
       "    }\n",
       "\n",
       "    .dataframe tbody tr th {\n",
       "        vertical-align: top;\n",
       "    }\n",
       "\n",
       "    .dataframe thead th {\n",
       "        text-align: right;\n",
       "    }\n",
       "</style>\n",
       "<table border=\"1\" class=\"dataframe\">\n",
       "  <thead>\n",
       "    <tr style=\"text-align: right;\">\n",
       "      <th></th>\n",
       "      <th>Unique User</th>\n",
       "      <th>Unique Host</th>\n",
       "      <th>Count</th>\n",
       "    </tr>\n",
       "  </thead>\n",
       "  <tbody>\n",
       "    <tr>\n",
       "      <th>0</th>\n",
       "      <td>Ruth.fakedomain.com</td>\n",
       "      <td>218.188.2.4</td>\n",
       "      <td>0</td>\n",
       "    </tr>\n",
       "    <tr>\n",
       "      <th>1</th>\n",
       "      <td>Ruth.fakedomain.com</td>\n",
       "      <td>220-135-151-1.hinet-ip.hinet.net</td>\n",
       "      <td>0</td>\n",
       "    </tr>\n",
       "    <tr>\n",
       "      <th>2</th>\n",
       "      <td>Ruth.fakedomain.com</td>\n",
       "      <td>061092085098.ctinets.com</td>\n",
       "      <td>0</td>\n",
       "    </tr>\n",
       "    <tr>\n",
       "      <th>3</th>\n",
       "      <td>Ruth.fakedomain.com</td>\n",
       "      <td>d211-116-254-214.rev.krline.net</td>\n",
       "      <td>0</td>\n",
       "    </tr>\n",
       "    <tr>\n",
       "      <th>4</th>\n",
       "      <td>Ruth.fakedomain.com</td>\n",
       "      <td>211.46.224.253</td>\n",
       "      <td>0</td>\n",
       "    </tr>\n",
       "    <tr>\n",
       "      <th>...</th>\n",
       "      <td>...</td>\n",
       "      <td>...</td>\n",
       "      <td>...</td>\n",
       "    </tr>\n",
       "    <tr>\n",
       "      <th>2345</th>\n",
       "      <td>Irene.fakedomain.com</td>\n",
       "      <td>193.110.106.11</td>\n",
       "      <td>0</td>\n",
       "    </tr>\n",
       "    <tr>\n",
       "      <th>2346</th>\n",
       "      <td>Irene.fakedomain.com</td>\n",
       "      <td>85.44.47.166</td>\n",
       "      <td>0</td>\n",
       "    </tr>\n",
       "    <tr>\n",
       "      <th>2347</th>\n",
       "      <td>Irene.fakedomain.com</td>\n",
       "      <td>211.9.58.217</td>\n",
       "      <td>0</td>\n",
       "    </tr>\n",
       "    <tr>\n",
       "      <th>2348</th>\n",
       "      <td>Irene.fakedomain.com</td>\n",
       "      <td>203.251.225.101</td>\n",
       "      <td>0</td>\n",
       "    </tr>\n",
       "    <tr>\n",
       "      <th>2349</th>\n",
       "      <td>Irene.fakedomain.com</td>\n",
       "      <td>207.243.167.114</td>\n",
       "      <td>0</td>\n",
       "    </tr>\n",
       "  </tbody>\n",
       "</table>\n",
       "<p>2350 rows × 3 columns</p>\n",
       "</div>"
      ],
      "text/plain": [
       "               Unique User                       Unique Host  Count\n",
       "0      Ruth.fakedomain.com                       218.188.2.4      0\n",
       "1      Ruth.fakedomain.com  220-135-151-1.hinet-ip.hinet.net      0\n",
       "2      Ruth.fakedomain.com          061092085098.ctinets.com      0\n",
       "3      Ruth.fakedomain.com   d211-116-254-214.rev.krline.net      0\n",
       "4      Ruth.fakedomain.com                    211.46.224.253      0\n",
       "...                    ...                               ...    ...\n",
       "2345  Irene.fakedomain.com                    193.110.106.11      0\n",
       "2346  Irene.fakedomain.com                      85.44.47.166      0\n",
       "2347  Irene.fakedomain.com                      211.9.58.217      0\n",
       "2348  Irene.fakedomain.com                   203.251.225.101      0\n",
       "2349  Irene.fakedomain.com                   207.243.167.114      0\n",
       "\n",
       "[2350 rows x 3 columns]"
      ]
     },
     "execution_count": 56,
     "metadata": {},
     "output_type": "execute_result"
    }
   ],
   "source": [
    "#Count number of unique rusers associated with a given rhost\n",
    "unique_rhost_df=pd.DataFrame(df_test_log_cleaned[\"Host\"].unique(),columns=[\"Unique Host\"])\n",
    "unique_ruser_df=pd.DataFrame(df_test_log_cleaned[\"User\"].unique(),columns=[\"Unique User\"])\n",
    "unique_df=unique_ruser_df.merge(unique_rhost_df,how=\"cross\")\n",
    "unique_df[\"Count\"]=0\n",
    "unique_df"
   ]
  },
  {
   "cell_type": "code",
   "execution_count": 52,
   "metadata": {},
   "outputs": [
    {
     "data": {
      "text/plain": [
       "47"
      ]
     },
     "execution_count": 52,
     "metadata": {},
     "output_type": "execute_result"
    }
   ],
   "source": [
    "for row in df_test_log_cleaned:\n",
    "    unique_df.loc[unique_df[\"Unique Host\"]==row[\"User\"]]"
   ]
  },
  {
   "cell_type": "code",
   "execution_count": 54,
   "metadata": {},
   "outputs": [
    {
     "data": {
      "text/plain": [
       "50"
      ]
     },
     "execution_count": 54,
     "metadata": {},
     "output_type": "execute_result"
    }
   ],
   "source": [
    "len(pd.DataFrame(df_test_log_cleaned[\"User\"].unique(),columns=[\"Unique User\"]))"
   ]
  },
  {
   "cell_type": "code",
   "execution_count": 42,
   "metadata": {},
   "outputs": [
    {
     "data": {
      "text/plain": [
       "array(['d211-116-254-214.rev.krline.net', '217.60.212.66', '218.22.3.51',\n",
       "       '62-192-102-94.dsl.easynet.nl', '60.30.224.116',\n",
       "       'p15105218.pureserver.info', '150.183.249.110', '211.137.205.253'],\n",
       "      dtype=object)"
      ]
     },
     "execution_count": 42,
     "metadata": {},
     "output_type": "execute_result"
    }
   ],
   "source": [
    "#Find all the rhost associated with Bernice.fakedomain.com\n",
    "df_test_log_cleaned.loc[(df_test_log_cleaned[\"User\"]== \"Bernice.fakedomain.com\")][\"Host\"].unique()"
   ]
  },
  {
   "cell_type": "code",
   "execution_count": null,
   "metadata": {},
   "outputs": [],
   "source": []
  }
 ],
 "metadata": {
  "kernelspec": {
   "display_name": "Python 3",
   "language": "python",
   "name": "python3"
  },
  "language_info": {
   "codemirror_mode": {
    "name": "ipython",
    "version": 3
   },
   "file_extension": ".py",
   "mimetype": "text/x-python",
   "name": "python",
   "nbconvert_exporter": "python",
   "pygments_lexer": "ipython3",
   "version": "3.11.3"
  },
  "orig_nbformat": 4
 },
 "nbformat": 4,
 "nbformat_minor": 2
}
