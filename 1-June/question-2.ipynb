{
 "cells": [
  {
   "cell_type": "code",
   "execution_count": 1,
   "metadata": {},
   "outputs": [],
   "source": [
    "import pandas as pd\n",
    "import re\n",
    "import numpy as np"
   ]
  },
  {
   "attachments": {},
   "cell_type": "markdown",
   "metadata": {},
   "source": [
    "### Line 2 to 5 have the function to extract relevent info from the text file"
   ]
  },
  {
   "cell_type": "code",
   "execution_count": 2,
   "metadata": {},
   "outputs": [],
   "source": [
    "#Extract Time\n",
    "def extract_time(line):\n",
    "    try:\n",
    "        results = re.search('^.*(?=(\\ combo))', line)\n",
    "        time = results.group()[-8:]\n",
    "        return time\n",
    "    except Exception as e:\n",
    "        return None"
   ]
  },
  {
   "cell_type": "code",
   "execution_count": 3,
   "metadata": {},
   "outputs": [],
   "source": [
    "#Extract Date\n",
    "def extract_date(line):\n",
    "    try:\n",
    "        results = re.search('^.*(?=(\\ combo))', line)\n",
    "        date = results.group()[:-9]\n",
    "        return date\n",
    "    except Exception as e:\n",
    "        return None"
   ]
  },
  {
   "cell_type": "code",
   "execution_count": 4,
   "metadata": {},
   "outputs": [],
   "source": [
    "#Extract ruser\n",
    "def extract_user(line):\n",
    "    try:\n",
    "        pattern = r\"ruser=(.*?) rhost=\"\n",
    "        user = re.search(pattern,line).group().replace(\"ruser=\",\"\").replace(\"rhost=\",\"\").replace(\" \",\"\")\n",
    "        return user\n",
    "    except Exception as e:\n",
    "        return None"
   ]
  },
  {
   "cell_type": "code",
   "execution_count": 5,
   "metadata": {},
   "outputs": [],
   "source": [
    "#Extract rhost\n",
    "def extract_host(line):\n",
    "    try:\n",
    "        pattern = r\"rhost=(.*?) \"\n",
    "        host = re.search(pattern,line).group().replace(\"rhost=\",\"\").replace(\" \",\"\")\n",
    "        return host\n",
    "    except Exception as e:\n",
    "        return None"
   ]
  },
  {
   "attachments": {},
   "cell_type": "markdown",
   "metadata": {},
   "source": [
    "### Extract time, date, ruser and rhost and save them in a dataframe"
   ]
  },
  {
   "cell_type": "code",
   "execution_count": 6,
   "metadata": {},
   "outputs": [
    {
     "data": {
      "text/html": [
       "<div>\n",
       "<style scoped>\n",
       "    .dataframe tbody tr th:only-of-type {\n",
       "        vertical-align: middle;\n",
       "    }\n",
       "\n",
       "    .dataframe tbody tr th {\n",
       "        vertical-align: top;\n",
       "    }\n",
       "\n",
       "    .dataframe thead th {\n",
       "        text-align: right;\n",
       "    }\n",
       "</style>\n",
       "<table border=\"1\" class=\"dataframe\">\n",
       "  <thead>\n",
       "    <tr style=\"text-align: right;\">\n",
       "      <th></th>\n",
       "      <th>Date</th>\n",
       "      <th>Time</th>\n",
       "      <th>User</th>\n",
       "      <th>Host</th>\n",
       "    </tr>\n",
       "  </thead>\n",
       "  <tbody>\n",
       "    <tr>\n",
       "      <th>0</th>\n",
       "      <td>Jun 14</td>\n",
       "      <td>15:16:01</td>\n",
       "      <td>Ruth.fakedomain.com</td>\n",
       "      <td>218.188.2.4</td>\n",
       "    </tr>\n",
       "    <tr>\n",
       "      <th>1</th>\n",
       "      <td>Jun 14</td>\n",
       "      <td>15:16:02</td>\n",
       "      <td>None</td>\n",
       "      <td>None</td>\n",
       "    </tr>\n",
       "    <tr>\n",
       "      <th>2</th>\n",
       "      <td>Jun 14</td>\n",
       "      <td>15:16:02</td>\n",
       "      <td>Marion.fakedomain.com</td>\n",
       "      <td>218.188.2.4</td>\n",
       "    </tr>\n",
       "    <tr>\n",
       "      <th>3</th>\n",
       "      <td>Jun 15</td>\n",
       "      <td>02:04:59</td>\n",
       "      <td>Alice.fakedomain.com</td>\n",
       "      <td>220-135-151-1.hinet-ip.hinet.net</td>\n",
       "    </tr>\n",
       "    <tr>\n",
       "      <th>4</th>\n",
       "      <td>Jun 15</td>\n",
       "      <td>02:04:59</td>\n",
       "      <td>Ann.fakedomain.com</td>\n",
       "      <td>220-135-151-1.hinet-ip.hinet.net</td>\n",
       "    </tr>\n",
       "    <tr>\n",
       "      <th>...</th>\n",
       "      <td>...</td>\n",
       "      <td>...</td>\n",
       "      <td>...</td>\n",
       "      <td>...</td>\n",
       "    </tr>\n",
       "    <tr>\n",
       "      <th>1995</th>\n",
       "      <td>Jul 27</td>\n",
       "      <td>14:41:59</td>\n",
       "      <td>None</td>\n",
       "      <td>None</td>\n",
       "    </tr>\n",
       "    <tr>\n",
       "      <th>1996</th>\n",
       "      <td>Jul 27</td>\n",
       "      <td>14:42:00</td>\n",
       "      <td>None</td>\n",
       "      <td>None</td>\n",
       "    </tr>\n",
       "    <tr>\n",
       "      <th>1997</th>\n",
       "      <td>Jul 27</td>\n",
       "      <td>14:42:00</td>\n",
       "      <td>None</td>\n",
       "      <td>None</td>\n",
       "    </tr>\n",
       "    <tr>\n",
       "      <th>1998</th>\n",
       "      <td>Jul 27</td>\n",
       "      <td>14:42:00</td>\n",
       "      <td>None</td>\n",
       "      <td>None</td>\n",
       "    </tr>\n",
       "    <tr>\n",
       "      <th>1999</th>\n",
       "      <td>Jul 27</td>\n",
       "      <td>14:42:00</td>\n",
       "      <td>None</td>\n",
       "      <td>None</td>\n",
       "    </tr>\n",
       "  </tbody>\n",
       "</table>\n",
       "<p>2000 rows × 4 columns</p>\n",
       "</div>"
      ],
      "text/plain": [
       "        Date      Time                   User  \\\n",
       "0     Jun 14  15:16:01    Ruth.fakedomain.com   \n",
       "1     Jun 14  15:16:02                   None   \n",
       "2     Jun 14  15:16:02  Marion.fakedomain.com   \n",
       "3     Jun 15  02:04:59   Alice.fakedomain.com   \n",
       "4     Jun 15  02:04:59     Ann.fakedomain.com   \n",
       "...      ...       ...                    ...   \n",
       "1995  Jul 27  14:41:59                   None   \n",
       "1996  Jul 27  14:42:00                   None   \n",
       "1997  Jul 27  14:42:00                   None   \n",
       "1998  Jul 27  14:42:00                   None   \n",
       "1999  Jul 27  14:42:00                   None   \n",
       "\n",
       "                                  Host  \n",
       "0                          218.188.2.4  \n",
       "1                                 None  \n",
       "2                          218.188.2.4  \n",
       "3     220-135-151-1.hinet-ip.hinet.net  \n",
       "4     220-135-151-1.hinet-ip.hinet.net  \n",
       "...                                ...  \n",
       "1995                              None  \n",
       "1996                              None  \n",
       "1997                              None  \n",
       "1998                              None  \n",
       "1999                              None  \n",
       "\n",
       "[2000 rows x 4 columns]"
      ]
     },
     "execution_count": 6,
     "metadata": {},
     "output_type": "execute_result"
    }
   ],
   "source": [
    "df = pd.DataFrame(columns=[\"Date\",\"Time\",\"User\",\"Host\"])\n",
    "f = open(\"ds_test_log.txt\", \"r\")\n",
    "line=f.readline()\n",
    "while(line):\n",
    "    new_row= [extract_date(line),extract_time(line),extract_user(line),extract_host(line)]\n",
    "    df.loc[len(df)] = new_row\n",
    "    line=f.readline()\n",
    "df"
   ]
  },
  {
   "attachments": {},
   "cell_type": "markdown",
   "metadata": {},
   "source": [
    "### Save the dataframe in a csv file"
   ]
  },
  {
   "cell_type": "code",
   "execution_count": 7,
   "metadata": {},
   "outputs": [],
   "source": [
    "df.to_csv('ds_test_log_cleaned.csv', encoding='utf-8', index=False)"
   ]
  },
  {
   "cell_type": "code",
   "execution_count": 8,
   "metadata": {},
   "outputs": [
    {
     "data": {
      "text/html": [
       "<div>\n",
       "<style scoped>\n",
       "    .dataframe tbody tr th:only-of-type {\n",
       "        vertical-align: middle;\n",
       "    }\n",
       "\n",
       "    .dataframe tbody tr th {\n",
       "        vertical-align: top;\n",
       "    }\n",
       "\n",
       "    .dataframe thead th {\n",
       "        text-align: right;\n",
       "    }\n",
       "</style>\n",
       "<table border=\"1\" class=\"dataframe\">\n",
       "  <thead>\n",
       "    <tr style=\"text-align: right;\">\n",
       "      <th></th>\n",
       "      <th>Date</th>\n",
       "      <th>Time</th>\n",
       "      <th>User</th>\n",
       "      <th>Host</th>\n",
       "    </tr>\n",
       "  </thead>\n",
       "  <tbody>\n",
       "    <tr>\n",
       "      <th>0</th>\n",
       "      <td>Jun 14</td>\n",
       "      <td>15:16:01</td>\n",
       "      <td>Ruth.fakedomain.com</td>\n",
       "      <td>218.188.2.4</td>\n",
       "    </tr>\n",
       "    <tr>\n",
       "      <th>1</th>\n",
       "      <td>Jun 14</td>\n",
       "      <td>15:16:02</td>\n",
       "      <td>NaN</td>\n",
       "      <td>NaN</td>\n",
       "    </tr>\n",
       "    <tr>\n",
       "      <th>2</th>\n",
       "      <td>Jun 14</td>\n",
       "      <td>15:16:02</td>\n",
       "      <td>Marion.fakedomain.com</td>\n",
       "      <td>218.188.2.4</td>\n",
       "    </tr>\n",
       "    <tr>\n",
       "      <th>3</th>\n",
       "      <td>Jun 15</td>\n",
       "      <td>02:04:59</td>\n",
       "      <td>Alice.fakedomain.com</td>\n",
       "      <td>220-135-151-1.hinet-ip.hinet.net</td>\n",
       "    </tr>\n",
       "    <tr>\n",
       "      <th>4</th>\n",
       "      <td>Jun 15</td>\n",
       "      <td>02:04:59</td>\n",
       "      <td>Ann.fakedomain.com</td>\n",
       "      <td>220-135-151-1.hinet-ip.hinet.net</td>\n",
       "    </tr>\n",
       "    <tr>\n",
       "      <th>...</th>\n",
       "      <td>...</td>\n",
       "      <td>...</td>\n",
       "      <td>...</td>\n",
       "      <td>...</td>\n",
       "    </tr>\n",
       "    <tr>\n",
       "      <th>1995</th>\n",
       "      <td>Jul 27</td>\n",
       "      <td>14:41:59</td>\n",
       "      <td>NaN</td>\n",
       "      <td>NaN</td>\n",
       "    </tr>\n",
       "    <tr>\n",
       "      <th>1996</th>\n",
       "      <td>Jul 27</td>\n",
       "      <td>14:42:00</td>\n",
       "      <td>NaN</td>\n",
       "      <td>NaN</td>\n",
       "    </tr>\n",
       "    <tr>\n",
       "      <th>1997</th>\n",
       "      <td>Jul 27</td>\n",
       "      <td>14:42:00</td>\n",
       "      <td>NaN</td>\n",
       "      <td>NaN</td>\n",
       "    </tr>\n",
       "    <tr>\n",
       "      <th>1998</th>\n",
       "      <td>Jul 27</td>\n",
       "      <td>14:42:00</td>\n",
       "      <td>NaN</td>\n",
       "      <td>NaN</td>\n",
       "    </tr>\n",
       "    <tr>\n",
       "      <th>1999</th>\n",
       "      <td>Jul 27</td>\n",
       "      <td>14:42:00</td>\n",
       "      <td>NaN</td>\n",
       "      <td>NaN</td>\n",
       "    </tr>\n",
       "  </tbody>\n",
       "</table>\n",
       "<p>2000 rows × 4 columns</p>\n",
       "</div>"
      ],
      "text/plain": [
       "        Date      Time                   User  \\\n",
       "0     Jun 14  15:16:01    Ruth.fakedomain.com   \n",
       "1     Jun 14  15:16:02                    NaN   \n",
       "2     Jun 14  15:16:02  Marion.fakedomain.com   \n",
       "3     Jun 15  02:04:59   Alice.fakedomain.com   \n",
       "4     Jun 15  02:04:59     Ann.fakedomain.com   \n",
       "...      ...       ...                    ...   \n",
       "1995  Jul 27  14:41:59                    NaN   \n",
       "1996  Jul 27  14:42:00                    NaN   \n",
       "1997  Jul 27  14:42:00                    NaN   \n",
       "1998  Jul 27  14:42:00                    NaN   \n",
       "1999  Jul 27  14:42:00                    NaN   \n",
       "\n",
       "                                  Host  \n",
       "0                          218.188.2.4  \n",
       "1                                  NaN  \n",
       "2                          218.188.2.4  \n",
       "3     220-135-151-1.hinet-ip.hinet.net  \n",
       "4     220-135-151-1.hinet-ip.hinet.net  \n",
       "...                                ...  \n",
       "1995                               NaN  \n",
       "1996                               NaN  \n",
       "1997                               NaN  \n",
       "1998                               NaN  \n",
       "1999                               NaN  \n",
       "\n",
       "[2000 rows x 4 columns]"
      ]
     },
     "execution_count": 8,
     "metadata": {},
     "output_type": "execute_result"
    }
   ],
   "source": [
    "df_test_log_cleaned = pd.read_csv(\"ds_test_log_cleaned.csv\")\n",
    "df_test_log_cleaned"
   ]
  },
  {
   "attachments": {},
   "cell_type": "markdown",
   "metadata": {},
   "source": [
    "### Get all rusers in the file"
   ]
  },
  {
   "cell_type": "code",
   "execution_count": 9,
   "metadata": {},
   "outputs": [
    {
     "data": {
      "text/plain": [
       "array(['Ruth.fakedomain.com', nan, 'Marion.fakedomain.com',\n",
       "       'Alice.fakedomain.com', 'Ann.fakedomain.com',\n",
       "       'Edna.fakedomain.com', 'Mildred.fakedomain.com',\n",
       "       'Mae.fakedomain.com', 'Evelyn.fakedomain.com',\n",
       "       'Lillian.fakedomain.com', 'Frances.fakedomain.com',\n",
       "       'Grace.fakedomain.com', 'Ethel.fakedomain.com',\n",
       "       'Esther.fakedomain.com', 'Eleanor.fakedomain.com',\n",
       "       'Louise.fakedomain.com', 'Gladys.fakedomain.com',\n",
       "       'Doris.fakedomain.com', 'Lucille.fakedomain.com',\n",
       "       'Katherine.fakedomain.com', 'Rose.fakedomain.com',\n",
       "       'Clara.fakedomain.com', 'Gertrude.fakedomain.com',\n",
       "       'Lois.fakedomain.com', 'Mabel.fakedomain.com',\n",
       "       'Josephine.fakedomain.com', 'Catherine.fakedomain.com',\n",
       "       'Jean.fakedomain.com', 'Bernice.fakedomain.com',\n",
       "       'Elsie.fakedomain.com', 'Betty.fakedomain.com',\n",
       "       'Margaret.fakedomain.com', 'Florence.fakedomain.com',\n",
       "       'Violet.fakedomain.com', 'Virginia.fakedomain.com',\n",
       "       'Marie.fakedomain.com', 'Edith.fakedomain.com',\n",
       "       'Marian.fakedomain.com', 'Hazel.fakedomain.com',\n",
       "       'Thelma.fakedomain.com', 'Dorothy.fakedomain.com',\n",
       "       'Helen.fakedomain.com', 'Laura.fakedomain.com',\n",
       "       'Marguerite.fakedomain.com', 'Mary.fakedomain.com',\n",
       "       'Elizabeth.fakedomain.com', 'Anna.fakedomain.com',\n",
       "       'Jessie.fakedomain.com', 'Marjorie.fakedomain.com',\n",
       "       'Beatrice.fakedomain.com', 'Irene.fakedomain.com'], dtype=object)"
      ]
     },
     "execution_count": 9,
     "metadata": {},
     "output_type": "execute_result"
    }
   ],
   "source": [
    "df_test_log_cleaned[\"User\"].unique()"
   ]
  },
  {
   "attachments": {},
   "cell_type": "markdown",
   "metadata": {},
   "source": [
    "### Find all the users that have been to 82.77.200.128"
   ]
  },
  {
   "cell_type": "code",
   "execution_count": 10,
   "metadata": {},
   "outputs": [
    {
     "data": {
      "text/plain": [
       "array(['Rose.fakedomain.com', 'Frances.fakedomain.com',\n",
       "       'Ann.fakedomain.com', 'Marion.fakedomain.com',\n",
       "       'Anna.fakedomain.com', 'Edna.fakedomain.com',\n",
       "       'Esther.fakedomain.com', 'Lillian.fakedomain.com',\n",
       "       'Florence.fakedomain.com'], dtype=object)"
      ]
     },
     "execution_count": 10,
     "metadata": {},
     "output_type": "execute_result"
    }
   ],
   "source": [
    "df_test_log_cleaned.loc[(df_test_log_cleaned[\"Host\"]== \"82.77.200.128\")][\"User\"].unique()"
   ]
  },
  {
   "attachments": {},
   "cell_type": "markdown",
   "metadata": {},
   "source": [
    "### Find all the users that have been to massive.merukuru.org"
   ]
  },
  {
   "cell_type": "code",
   "execution_count": 11,
   "metadata": {},
   "outputs": [
    {
     "data": {
      "text/plain": [
       "array(['Anna.fakedomain.com', 'Mildred.fakedomain.com',\n",
       "       'Mae.fakedomain.com', 'Louise.fakedomain.com',\n",
       "       'Hazel.fakedomain.com', 'Edna.fakedomain.com',\n",
       "       'Lillian.fakedomain.com', 'Katherine.fakedomain.com',\n",
       "       'Virginia.fakedomain.com', 'Jessie.fakedomain.com'], dtype=object)"
      ]
     },
     "execution_count": 11,
     "metadata": {},
     "output_type": "execute_result"
    }
   ],
   "source": [
    "df_test_log_cleaned.loc[(df_test_log_cleaned[\"Host\"]== \"massive.merukuru.org\")][\"User\"].unique()"
   ]
  },
  {
   "attachments": {},
   "cell_type": "markdown",
   "metadata": {},
   "source": [
    "### Count number of unique rusers associated with a given rhost"
   ]
  },
  {
   "cell_type": "code",
   "execution_count": 13,
   "metadata": {},
   "outputs": [
    {
     "data": {
      "text/html": [
       "<div>\n",
       "<style scoped>\n",
       "    .dataframe tbody tr th:only-of-type {\n",
       "        vertical-align: middle;\n",
       "    }\n",
       "\n",
       "    .dataframe tbody tr th {\n",
       "        vertical-align: top;\n",
       "    }\n",
       "\n",
       "    .dataframe thead th {\n",
       "        text-align: right;\n",
       "    }\n",
       "</style>\n",
       "<table border=\"1\" class=\"dataframe\">\n",
       "  <thead>\n",
       "    <tr style=\"text-align: right;\">\n",
       "      <th></th>\n",
       "      <th>Host</th>\n",
       "      <th>User</th>\n",
       "      <th>Count</th>\n",
       "    </tr>\n",
       "  </thead>\n",
       "  <tbody>\n",
       "    <tr>\n",
       "      <th>0</th>\n",
       "      <td>061092085098.ctinets.com</td>\n",
       "      <td>Catherine.fakedomain.com</td>\n",
       "      <td>1</td>\n",
       "    </tr>\n",
       "    <tr>\n",
       "      <th>1</th>\n",
       "      <td>061092085098.ctinets.com</td>\n",
       "      <td>Clara.fakedomain.com</td>\n",
       "      <td>1</td>\n",
       "    </tr>\n",
       "    <tr>\n",
       "      <th>2</th>\n",
       "      <td>061092085098.ctinets.com</td>\n",
       "      <td>Gertrude.fakedomain.com</td>\n",
       "      <td>1</td>\n",
       "    </tr>\n",
       "    <tr>\n",
       "      <th>3</th>\n",
       "      <td>061092085098.ctinets.com</td>\n",
       "      <td>Josephine.fakedomain.com</td>\n",
       "      <td>1</td>\n",
       "    </tr>\n",
       "    <tr>\n",
       "      <th>4</th>\n",
       "      <td>061092085098.ctinets.com</td>\n",
       "      <td>Katherine.fakedomain.com</td>\n",
       "      <td>1</td>\n",
       "    </tr>\n",
       "    <tr>\n",
       "      <th>...</th>\n",
       "      <td>...</td>\n",
       "      <td>...</td>\n",
       "      <td>...</td>\n",
       "    </tr>\n",
       "    <tr>\n",
       "      <th>400</th>\n",
       "      <td>zummit.com</td>\n",
       "      <td>Ethel.fakedomain.com</td>\n",
       "      <td>1</td>\n",
       "    </tr>\n",
       "    <tr>\n",
       "      <th>401</th>\n",
       "      <td>zummit.com</td>\n",
       "      <td>Grace.fakedomain.com</td>\n",
       "      <td>1</td>\n",
       "    </tr>\n",
       "    <tr>\n",
       "      <th>402</th>\n",
       "      <td>zummit.com</td>\n",
       "      <td>Irene.fakedomain.com</td>\n",
       "      <td>1</td>\n",
       "    </tr>\n",
       "    <tr>\n",
       "      <th>403</th>\n",
       "      <td>zummit.com</td>\n",
       "      <td>Lillian.fakedomain.com</td>\n",
       "      <td>1</td>\n",
       "    </tr>\n",
       "    <tr>\n",
       "      <th>404</th>\n",
       "      <td>zummit.com</td>\n",
       "      <td>Marian.fakedomain.com</td>\n",
       "      <td>1</td>\n",
       "    </tr>\n",
       "  </tbody>\n",
       "</table>\n",
       "<p>405 rows × 3 columns</p>\n",
       "</div>"
      ],
      "text/plain": [
       "                         Host                      User  Count\n",
       "0    061092085098.ctinets.com  Catherine.fakedomain.com      1\n",
       "1    061092085098.ctinets.com      Clara.fakedomain.com      1\n",
       "2    061092085098.ctinets.com   Gertrude.fakedomain.com      1\n",
       "3    061092085098.ctinets.com  Josephine.fakedomain.com      1\n",
       "4    061092085098.ctinets.com  Katherine.fakedomain.com      1\n",
       "..                        ...                       ...    ...\n",
       "400                zummit.com      Ethel.fakedomain.com      1\n",
       "401                zummit.com      Grace.fakedomain.com      1\n",
       "402                zummit.com      Irene.fakedomain.com      1\n",
       "403                zummit.com    Lillian.fakedomain.com      1\n",
       "404                zummit.com     Marian.fakedomain.com      1\n",
       "\n",
       "[405 rows x 3 columns]"
      ]
     },
     "execution_count": 13,
     "metadata": {},
     "output_type": "execute_result"
    }
   ],
   "source": [
    "#Group the dataframe by rhost and ruser\n",
    "df_grouped=df_test_log_cleaned.groupby([\"Host\", \"User\"]).size().reset_index().rename(columns={0:'Count'})\n",
    "df_grouped"
   ]
  },
  {
   "cell_type": "code",
   "execution_count": 18,
   "metadata": {},
   "outputs": [
    {
     "name": "stdout",
     "output_type": "stream",
     "text": [
      "061092085098.ctinets.com: 10 unique users\n",
      "150.183.249.110: 38 unique users\n",
      "193.110.106.11: 2 unique users\n",
      "195.129.24.210: 11 unique users\n",
      "200.60.37.201: 1 unique users\n",
      "202-132-40-29.adsl.ttn.net: 8 unique users\n",
      "202.181.236.180: 10 unique users\n",
      "203.251.225.101: 5 unique users\n",
      "207.243.167.114: 19 unique users\n",
      "209.152.168.249: 9 unique users\n",
      "210.229.150.228: 5 unique users\n",
      "210.76.59.29: 6 unique users\n",
      "211-76-104-65.ebix.net.tw: 9 unique users\n",
      "211.115.206.155: 5 unique users\n",
      "211.137.205.253: 8 unique users\n",
      "211.214.161.141: 8 unique users\n",
      "211.46.224.253: 1 unique users\n",
      "211.9.58.217: 8 unique users\n",
      "212.0.132.20: 4 unique users\n",
      "217.60.212.66: 6 unique users\n",
      "218.16.122.48: 5 unique users\n",
      "218.188.2.4: 12 unique users\n",
      "218.22.3.51: 9 unique users\n",
      "218.55.234.102: 4 unique users\n",
      "220-135-151-1.hinet-ip.hinet.net: 10 unique users\n",
      "220.117.241.87: 12 unique users\n",
      "60.30.224.116: 17 unique users\n",
      "61-220-159-99.hinet-ip.hinet.net: 3 unique users\n",
      "61.53.154.93: 7 unique users\n",
      "62-192-102-94.dsl.easynet.nl: 9 unique users\n",
      "65.166.159.14: 9 unique users\n",
      "68.143.156.89.nw.nuvox.net: 8 unique users\n",
      "82.77.200.128: 9 unique users\n",
      "85.44.47.166: 1 unique users\n",
      "adsl-70-242-75-179.dsl.ksc2mo.swbell.net: 10 unique users\n",
      "biblioteka.wsi.edu.pl: 8 unique users\n",
      "c51471f2c.cable.wanadoo.nl: 9 unique users\n",
      "c9063558.virtua.com.br: 4 unique users\n",
      "csnsu.nsuok.edu: 9 unique users\n",
      "d211-116-254-214.rev.krline.net: 5 unique users\n",
      "h64-187-1-131.gtconnect.net: 10 unique users\n",
      "ip-216-69-169-168.ip.secureserver.net: 10 unique users\n",
      "massive.merukuru.org: 10 unique users\n",
      "n219076184117.netvigator.com: 18 unique users\n",
      "p15105218.pureserver.info: 10 unique users\n",
      "troi.bluesky-technologies.com: 5 unique users\n",
      "zummit.com: 9 unique users\n"
     ]
    }
   ],
   "source": [
    "#Print out the name of the host and its number of unique users\n",
    "host_list = df_grouped[\"Host\"].unique()\n",
    "for host in host_list:\n",
    "    val = len(df_grouped.loc[df_grouped[\"Host\"]==host])\n",
    "    print(f\"{host}: {val} unique users\")"
   ]
  },
  {
   "attachments": {},
   "cell_type": "markdown",
   "metadata": {},
   "source": [
    "### Find all the rhost associated with Bernice.fakedomain.com"
   ]
  },
  {
   "cell_type": "code",
   "execution_count": 19,
   "metadata": {},
   "outputs": [
    {
     "data": {
      "text/plain": [
       "array(['d211-116-254-214.rev.krline.net', '217.60.212.66', '218.22.3.51',\n",
       "       '62-192-102-94.dsl.easynet.nl', '60.30.224.116',\n",
       "       'p15105218.pureserver.info', '150.183.249.110', '211.137.205.253'],\n",
       "      dtype=object)"
      ]
     },
     "execution_count": 19,
     "metadata": {},
     "output_type": "execute_result"
    }
   ],
   "source": [
    "df_test_log_cleaned.loc[(df_test_log_cleaned[\"User\"]== \"Bernice.fakedomain.com\")][\"Host\"].unique()"
   ]
  }
 ],
 "metadata": {
  "kernelspec": {
   "display_name": "Python 3",
   "language": "python",
   "name": "python3"
  },
  "language_info": {
   "codemirror_mode": {
    "name": "ipython",
    "version": 3
   },
   "file_extension": ".py",
   "mimetype": "text/x-python",
   "name": "python",
   "nbconvert_exporter": "python",
   "pygments_lexer": "ipython3",
   "version": "3.11.3"
  },
  "orig_nbformat": 4
 },
 "nbformat": 4,
 "nbformat_minor": 2
}
